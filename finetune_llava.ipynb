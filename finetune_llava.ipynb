{
 "cells": [
  {
   "cell_type": "code",
   "execution_count": 2,
   "metadata": {},
   "outputs": [
    {
     "name": "stdout",
     "output_type": "stream",
     "text": [
      "Combined JSON created at ./dataset_json/combined_dataset.json\n"
     ]
    }
   ],
   "source": [
    "import os\n",
    "import json\n",
    "\n",
    "# Paths to the images and labels directories\n",
    "images_dir = \"C:/Project/PDF_Heirarchial_RAG/train/images/\"\n",
    "labels_dir = 'C:/Project/PDF_Heirarchial_RAG/train/label/'\n",
    "\n",
    "# List all image files in the images directory\n",
    "image_files = os.listdir(images_dir)\n",
    "\n",
    "# List to hold the final combined data\n",
    "combined_data = []\n",
    "\n",
    "# Iterate over each image file\n",
    "for i, image_file in enumerate(image_files):\n",
    "    if image_file.endswith('.png'):\n",
    "        try:\n",
    "            # Get the corresponding JSON file name\n",
    "            json_file = image_file.replace('.png', '.json')\n",
    "\n",
    "            # Full path to the image and JSON file\n",
    "            image_path = os.path.join(images_dir, image_file)\n",
    "            json_path = os.path.join(labels_dir, json_file)\n",
    "\n",
    "            # Read the JSON file with UTF-8 encoding\n",
    "            with open(json_path, 'r', encoding='utf-8') as f:\n",
    "                json_data = json.load(f)\n",
    "\n",
    "            # Create the combined entry\n",
    "            combined_entry = {\n",
    "                \"image\": image_path,\n",
    "                \"text\": json_data  # Assuming the JSON structure is correct and needs no modification\n",
    "            }\n",
    "\n",
    "            # Append the combined entry to the list\n",
    "            combined_data.append(combined_entry)\n",
    "\n",
    "            print(f\"Processed {i + 1}/{len(image_files)}: {image_file}\")\n",
    "\n",
    "        except Exception as e:\n",
    "            print(f\"Error processing {image_file}: {e}\")\n",
    "\n",
    "# Output file where the combined JSON will be saved\n",
    "output_json_path = 'C:/Project/PDF_Heirarchial_RAG/dataset_json/combined_dataset.json'\n",
    "\n",
    "# Write the combined data to the output JSON file\n",
    "with open(output_json_path, 'w', encoding='utf-8') as outfile:\n",
    "    json.dump(combined_data, outfile, indent=4)\n",
    "\n",
    "print(f\"Combined JSON created at {output_json_path}\")\n"
   ]
  }
 ],
 "metadata": {
  "kernelspec": {
   "display_name": "RAG_ENV",
   "language": "python",
   "name": "python3"
  },
  "language_info": {
   "codemirror_mode": {
    "name": "ipython",
    "version": 3
   },
   "file_extension": ".py",
   "mimetype": "text/x-python",
   "name": "python",
   "nbconvert_exporter": "python",
   "pygments_lexer": "ipython3",
   "version": "3.12.2"
  }
 },
 "nbformat": 4,
 "nbformat_minor": 2
}
